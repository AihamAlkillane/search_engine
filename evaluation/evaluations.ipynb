{
 "cells": [
  {
   "cell_type": "code",
   "id": "initial_id",
   "metadata": {
    "collapsed": true,
    "ExecuteTime": {
     "end_time": "2025-07-12T17:39:19.921778Z",
     "start_time": "2025-07-12T17:38:02.323219Z"
    }
   },
   "source": [
    "import loader\n",
    "import evaluator\n",
    "import numpy as np\n",
    "import pandas as pd\n",
    "\n",
    "qrels_path = \"C:/Users/USER/DataSets/arguana/qrels/test.tsv\"\n",
    "queries_path = \"C:/Users/USER/DataSets/arguana/queries.jsonl\"\n",
    "dataset_name = \"arguana\"\n",
    "\n",
    "qrels = loader.load_qrels(qrels_path)\n",
    "queries = loader.load_queries(queries_path)\n",
    "tf_idf_pipeline = loader.tf_idf_pipeline(dataset_name)\n",
    "bert_sentence_pipeline = loader.bert_sentence_pipeline(dataset_name)\n",
    "\n",
    "def evaluate_pipeline(pipeline, queries, qrels, run_fn, top_k=100):\n",
    "    precisions, recalls, average_precisions, reciprocal_ranks = [], [], [], []\n",
    "\n",
    "    for qid, query_text in queries.items():\n",
    "        relevant_docs = qrels.get(qid, [])\n",
    "        retrieved_docs, _ = run_fn(pipeline, query_text, top_k)\n",
    "\n",
    "        precisions.append(evaluator.precision_at_k(relevant_docs, retrieved_docs, k=10))\n",
    "        recalls.append(evaluator.recall_at_k(relevant_docs, retrieved_docs, k=10))\n",
    "        average_precisions.append(evaluator.average_precision(relevant_docs, retrieved_docs))\n",
    "        reciprocal_ranks.append(evaluator.reciprocal_rank(relevant_docs, retrieved_docs))\n",
    "\n",
    "    return {\n",
    "        \"Precision@10\": np.mean(precisions),\n",
    "        \"Recall@10\": np.mean(recalls),\n",
    "        \"MAP\": np.mean(average_precisions),\n",
    "        \"MRR\": np.mean(reciprocal_ranks),\n",
    "    }\n",
    "\n",
    "def run_tf_idf(pipeline, query_text, top_k):\n",
    "    return pipeline.run_with_inverted_index(query_text, top_k)\n",
    "\n",
    "def run_bert(pipeline, query_text, top_k):\n",
    "    return pipeline.run_with_flat_ip_index(query_text, top_k)\n",
    "\n",
    "tfidf_results = evaluate_pipeline(tf_idf_pipeline, queries, qrels, run_tf_idf)\n",
    "bert_results = evaluate_pipeline(bert_sentence_pipeline, queries, qrels, run_bert)\n",
    "\n",
    "df = pd.DataFrame([tfidf_results, bert_results], index=[\"TF-IDF\", \"BERT\"])\n",
    "print(df.round(4))\n"
   ],
   "outputs": [
    {
     "name": "stderr",
     "output_type": "stream",
     "text": [
      "C:\\Users\\USER\\PycharmProjects\\SearchEngine\\.venv\\Lib\\site-packages\\tqdm\\auto.py:21: TqdmWarning: IProgress not found. Please update jupyter and ipywidgets. See https://ipywidgets.readthedocs.io/en/stable/user_install.html\n",
      "  from .autonotebook import tqdm as notebook_tqdm\n"
     ]
    },
    {
     "name": "stdout",
     "output_type": "stream",
     "text": [
      "        Precision@10  Recall@10     MAP     MRR\n",
      "TF-IDF        0.0711     0.7105  0.2296  0.2296\n",
      "BERT          0.0757     0.7575  0.2507  0.2507\n"
     ]
    }
   ],
   "execution_count": 1
  }
 ],
 "metadata": {
  "kernelspec": {
   "display_name": "Python 3",
   "language": "python",
   "name": "python3"
  },
  "language_info": {
   "codemirror_mode": {
    "name": "ipython",
    "version": 2
   },
   "file_extension": ".py",
   "mimetype": "text/x-python",
   "name": "python",
   "nbconvert_exporter": "python",
   "pygments_lexer": "ipython2",
   "version": "2.7.6"
  }
 },
 "nbformat": 4,
 "nbformat_minor": 5
}
