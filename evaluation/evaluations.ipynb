{
 "cells": [
  {
   "cell_type": "code",
   "id": "initial_id",
   "metadata": {
    "collapsed": true,
    "jupyter": {
     "is_executing": true
    },
    "ExecuteTime": {
     "start_time": "2025-07-13T04:19:21.332295Z"
    }
   },
   "source": [
    "import loader\n",
    "import evaluator\n",
    "import numpy as np\n",
    "import pandas as pd\n",
    "from types import SimpleNamespace\n",
    "from online.fuse_parallel_results import fuse_parallel_results\n",
    "\n",
    "qrels_path = \"C:/Users/USER/Desktop/lifestyle/dev/qrels.tsv\"\n",
    "queries_path = \"C:/Users/USER/Desktop/lifestyle/dev/questions.search.tsv\"\n",
    "\n",
    "dataset_name = \"lifestyle\"\n",
    "import warnings\n",
    "\n",
    "warnings.filterwarnings(\"ignore\")\n",
    "qrels = loader.load_qrels(qrels_path)\n",
    "queries = loader.load_queries(queries_path)\n",
    "tf_idf_pipeline = loader.tf_idf_pipeline(dataset_name)\n",
    "bert_sentence_pipeline = loader.bert_sentence_pipeline(dataset_name)\n",
    "hybrid_pipeline = SimpleNamespace(\n",
    "    tfidf_pipeline=tf_idf_pipeline,\n",
    "    bert_sentence_pipeline=bert_sentence_pipeline\n",
    ")\n",
    "\n",
    "\n",
    "def evaluate_pipeline(pipeline, queries, qrels, run_fn, top_k=100):\n",
    "    precisions, recalls, average_precisions, reciprocal_ranks = [], [], [], []\n",
    "\n",
    "    for qid, query_text in queries.items():\n",
    "        relevant_docs = qrels.get(qid, [])\n",
    "        retrieved_docs, _ = run_fn(pipeline, query_text, top_k)\n",
    "\n",
    "        precisions.append(evaluator.precision_at_k(relevant_docs, retrieved_docs, k=10))\n",
    "        recalls.append(evaluator.recall_at_k(relevant_docs, retrieved_docs, k=10))\n",
    "        average_precisions.append(evaluator.average_precision(relevant_docs, retrieved_docs))\n",
    "        reciprocal_ranks.append(evaluator.reciprocal_rank(relevant_docs, retrieved_docs))\n",
    "\n",
    "    return {\n",
    "        \"Precision@10\": np.mean(precisions),\n",
    "        \"Recall@10\": np.mean(recalls),\n",
    "        \"MAP\": np.mean(average_precisions),\n",
    "        \"MRR\": np.mean(reciprocal_ranks),\n",
    "    }\n",
    "\n",
    "\n",
    "def run_tf_idf(pipeline, query_text, top_k):\n",
    "    return pipeline.run_with_inverted_index(query_text, top_k)\n",
    "\n",
    "\n",
    "def run_bert(pipeline, query_text, top_k):\n",
    "    return pipeline.run_with_flat_ip_index(query_text, top_k)\n",
    "\n",
    "\n",
    "def run_hybrid_serial(pipeline, query_text, top_k):\n",
    "    candidates_ids, _ = pipeline.tfidf_pipeline.run_with_inverted_index(query_text, 1000)\n",
    "    reranked_ids, _ = pipeline.bert_sentence_pipeline.run_with_filtered_candidates(query_text, candidates_ids, top_k)\n",
    "    return reranked_ids, None\n",
    "\n",
    "\n",
    "def run_hybrid_parallel(pipeline, query_text, top_k, alpha=0.5):\n",
    "    tfidf_ids, tfidf_scores = pipeline.tfidf_pipeline.run_with_inverted_index(query_text, top_k=100)\n",
    "    bert_ids, bert_scores = pipeline.bert_sentence_pipeline.run_with_flat_ip_index(query_text, top_k=100)\n",
    "\n",
    "    fused_ids, _ = fuse_parallel_results(tfidf_ids, tfidf_scores, bert_ids, bert_scores, alpha=alpha, top_k=top_k)\n",
    "    return fused_ids, None"
   ],
   "outputs": [],
   "execution_count": null
  },
  {
   "metadata": {},
   "cell_type": "code",
   "outputs": [],
   "execution_count": null,
   "source": [
    "tfidf_results = evaluate_pipeline(tf_idf_pipeline, queries, qrels, run_tf_idf)\n",
    "bert_results = evaluate_pipeline(bert_sentence_pipeline, queries, qrels, run_bert)\n",
    "hybrid_results = evaluate_pipeline(hybrid_pipeline, queries, qrels, run_hybrid_serial)\n",
    "hybrid_parallel_results = evaluate_pipeline(\n",
    "    hybrid_pipeline,\n",
    "    queries,\n",
    "    qrels,\n",
    "    lambda pipeline, qtext, k=10: run_hybrid_parallel(pipeline, qtext, k, alpha=0.5)\n",
    ")\n",
    "\n",
    "df = pd.DataFrame(\n",
    "    [tfidf_results, bert_results, hybrid_results, hybrid_parallel_results],\n",
    "    index=[\"TF-IDF\", \"BERT\", \"Hybrid-Serial\", \"Hybrid-Parallel\"]\n",
    ")\n",
    "print(df.round(4))"
   ],
   "id": "954ecdac2aa87188"
  }
 ],
 "metadata": {
  "kernelspec": {
   "display_name": "Python 3",
   "language": "python",
   "name": "python3"
  },
  "language_info": {
   "codemirror_mode": {
    "name": "ipython",
    "version": 2
   },
   "file_extension": ".py",
   "mimetype": "text/x-python",
   "name": "python",
   "nbconvert_exporter": "python",
   "pygments_lexer": "ipython2",
   "version": "2.7.6"
  }
 },
 "nbformat": 4,
 "nbformat_minor": 5
}
