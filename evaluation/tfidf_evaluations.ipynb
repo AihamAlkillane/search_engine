{
 "cells": [
  {
   "cell_type": "code",
   "id": "initial_id",
   "metadata": {
    "collapsed": true,
    "ExecuteTime": {
     "end_time": "2025-07-11T08:46:53.644470Z",
     "start_time": "2025-07-11T08:46:51.113698Z"
    }
   },
   "source": [
    "import joblib\n",
    "import pickle\n",
    "import numpy as np\n",
    "from sklearn.metrics.pairwise import cosine_similarity\n",
    "\n",
    "vectorizer = joblib.load(\"/models/arguana/tf-idf/vectorizer.joblib\")\n",
    "tfidf_matrix = joblib.load(\"/models/arguana/vectors.joblib\")\n",
    "\n",
    "with open(\"/models/arguana/inverted_index.joblib\", \"rb\") as f:\n",
    "    inverted_index = pickle.load(f)\n",
    "import json\n",
    "\n",
    "queries = {}\n",
    "with open(\"C:/Users/USER/DataSets/arguana/queries.jsonl\", encoding=\"utf-8\") as f:\n",
    "    for line in f:\n",
    "        item = json.loads(line)\n",
    "        queries[item[\"_id\"]] = item[\"text\"]\n",
    "\n",
    "from collections import defaultdict\n",
    "import csv\n",
    "\n",
    "qrels = defaultdict(list)\n",
    "with open(\"C:/Users/USER/DataSets/arguana/qrels/test.tsv\", encoding=\"utf-8\") as f:\n",
    "    tsv_reader = csv.reader(f, delimiter=\"\\t\")\n",
    "    next(tsv_reader)  # لتجاوز رأس الجدول (header)\n",
    "    for row in tsv_reader:\n",
    "        query_id, doc_id, score = row\n",
    "        if float(score) > 0:\n",
    "            qrels[query_id].append(doc_id)\n"
   ],
   "outputs": [],
   "execution_count": 1
  },
  {
   "metadata": {
    "ExecuteTime": {
     "end_time": "2025-07-11T08:46:53.667352Z",
     "start_time": "2025-07-11T08:46:53.662494Z"
    }
   },
   "cell_type": "code",
   "source": [
    "def retrieve_top_k_docs(query_text, k=10):\n",
    "    query_vector = vectorizer.transform([query_text])\n",
    "    scores = cosine_similarity(query_vector, tfidf_matrix).flatten()\n",
    "    top_k_indices = np.argsort(scores)[::-1][:k]\n",
    "    return top_k_indices, scores[top_k_indices]\n"
   ],
   "id": "8299766fb6270256",
   "outputs": [],
   "execution_count": 2
  },
  {
   "metadata": {
    "ExecuteTime": {
     "end_time": "2025-07-11T08:46:53.690883Z",
     "start_time": "2025-07-11T08:46:53.682277Z"
    }
   },
   "cell_type": "code",
   "source": [
    "def precision_at_k(relevant, retrieved, k=10):\n",
    "    retrieved_k = retrieved[:k]\n",
    "    relevant_set = set(relevant)\n",
    "    return sum(1 for doc in retrieved_k if doc in relevant_set) / k\n",
    "\n",
    "\n",
    "def recall_at_k(relevant, retrieved, k=10):\n",
    "    relevant_set = set(relevant)\n",
    "    retrieved_k = retrieved[:k]\n",
    "    return sum(1 for doc in retrieved_k if doc in relevant_set) / len(relevant)\n",
    "\n",
    "\n",
    "def average_precision(relevant, retrieved):\n",
    "    relevant_set = set(relevant)\n",
    "    hits = 0\n",
    "    sum_precisions = 0.0\n",
    "    for i, doc_id in enumerate(retrieved):\n",
    "        if doc_id in relevant_set:\n",
    "            hits += 1\n",
    "            sum_precisions += hits / (i + 1)\n",
    "    if hits == 0:\n",
    "        return 0.0\n",
    "    return sum_precisions / hits\n",
    "\n",
    "\n",
    "def reciprocal_rank(relevant, retrieved):\n",
    "    for i, doc_id in enumerate(retrieved):\n",
    "        if doc_id in set(relevant):\n",
    "            return 1 / (i + 1)\n",
    "    return 0.0\n"
   ],
   "id": "7cbf725f471a0d0c",
   "outputs": [],
   "execution_count": 3
  },
  {
   "metadata": {
    "ExecuteTime": {
     "end_time": "2025-07-11T08:47:23.236450Z",
     "start_time": "2025-07-11T08:46:53.700860Z"
    }
   },
   "cell_type": "code",
   "source": [
    "precisions, recalls, average_precisions, reciprocal_ranks = [], [], [], []\n",
    "\n",
    "for qid, query_text in queries.items():\n",
    "    relevant_docs = qrels.get(qid, [])\n",
    "    retrieved_docs, _ = retrieve_top_k_docs(query_text, k=100)  # تقييم على top-100 مثلاً\n",
    "\n",
    "    precisions.append(precision_at_k(relevant_docs, retrieved_docs, k=10))\n",
    "    recalls.append(recall_at_k(relevant_docs, retrieved_docs, k=10))\n",
    "    average_precisions.append(average_precision(relevant_docs, retrieved_docs))\n",
    "    reciprocal_ranks.append(reciprocal_rank(relevant_docs, retrieved_docs))\n",
    "\n",
    "print(f\"Precision@10: {np.mean(precisions):.4f}\")\n",
    "print(f\"Recall@10: {np.mean(recalls):.4f}\")\n",
    "print(f\"MAP: {np.mean(average_precisions):.4f}\")\n",
    "print(f\"MRR: {np.mean(reciprocal_ranks):.4f}\")\n"
   ],
   "id": "88f1eb088adbff7b",
   "outputs": [
    {
     "name": "stdout",
     "output_type": "stream",
     "text": [
      "Precision@10: 0.0000\n",
      "Recall@10: 0.0000\n",
      "MAP: 0.0000\n",
      "MRR: 0.0000\n"
     ]
    }
   ],
   "execution_count": 4
  }
 ],
 "metadata": {
  "kernelspec": {
   "display_name": "Python 3",
   "language": "python",
   "name": "python3"
  },
  "language_info": {
   "codemirror_mode": {
    "name": "ipython",
    "version": 2
   },
   "file_extension": ".py",
   "mimetype": "text/x-python",
   "name": "python",
   "nbconvert_exporter": "python",
   "pygments_lexer": "ipython2",
   "version": "2.7.6"
  }
 },
 "nbformat": 4,
 "nbformat_minor": 5
}
